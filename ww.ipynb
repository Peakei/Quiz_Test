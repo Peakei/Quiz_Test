{
 "cells": [
  {
   "cell_type": "markdown",
   "metadata": {},
   "source": [
    "<div class=\"image\">\n",
    "\n",
    "  <img style=\"float: right;\" src=\"./images/PHBS_UK.png\" width=\"50%\"  align=\"right\">\n",
    "      <h4>\n",
    "          <p style=\"font-size:25pt\">UK19B307 AI Analytics</p>\n",
    "          <p style=\"font-size:15pt\">Week 1 Exercises</p>\n",
    "      </h4>\n",
    "<h5>\n",
    "    <p> Peking University</p>\n",
    "    <p> Demonstrable Labs</p>\n",
    "</h5>\n",
    "</div>"
   ]
  },
  {
   "cell_type": "markdown",
   "metadata": {},
   "source": [
    "# Table of Contents\n",
    "* [1. Data Types](#1.-Data-Types)\n",
    "* [2. Control Structures](#2.-Control-Structures)\n",
    "* [3. Functions](#3.-Functions)"
   ]
  },
  {
   "cell_type": "markdown",
   "metadata": {},
   "source": [
    "# 1. Data Types"
   ]
  },
  {
   "cell_type": "markdown",
   "metadata": {},
   "source": [
    "<div class=\"alert alert-warning\">\n",
    "<b>EXERCISE (1):</b> \n",
    "\n",
    "Please calculate $(-10)\\times(2-9)$\n",
    "\n",
    "</div>"
   ]
  },
  {
   "cell_type": "code",
   "execution_count": 1,
   "metadata": {},
   "outputs": [
    {
     "data": {
      "text/plain": [
       "70"
      ]
     },
     "execution_count": 1,
     "metadata": {},
     "output_type": "execute_result"
    }
   ],
   "source": [
    "-10*(2-9)"
   ]
  },
  {
   "cell_type": "markdown",
   "metadata": {},
   "source": [
    "<div class=\"alert alert-warning\">\n",
    "<b>EXERCISE (2):</b> \n",
    "\n",
    "Please calculate $6^3\\div \\sqrt[3]{27}$\n",
    "\n",
    "</div>"
   ]
  },
  {
   "cell_type": "code",
   "execution_count": 2,
   "metadata": {},
   "outputs": [
    {
     "data": {
      "text/plain": [
       "72.0"
      ]
     },
     "execution_count": 2,
     "metadata": {},
     "output_type": "execute_result"
    }
   ],
   "source": [
    "6**3/27**(1/3)"
   ]
  },
  {
   "cell_type": "markdown",
   "metadata": {},
   "source": [
    "<div class=\"alert alert-warning\">\n",
    "<b>EXERCISE (3):</b> \n",
    "    \n",
    "What is the integer quotient of 25.5 divided by 6? You can use the floor division to get the result.\n",
    "\n",
    "</div>"
   ]
  },
  {
   "cell_type": "code",
   "execution_count": 3,
   "metadata": {},
   "outputs": [
    {
     "data": {
      "text/plain": [
       "4.0"
      ]
     },
     "execution_count": 3,
     "metadata": {},
     "output_type": "execute_result"
    }
   ],
   "source": [
    "25.5//6"
   ]
  },
  {
   "cell_type": "markdown",
   "metadata": {},
   "source": [
    "<div class=\"alert alert-warning\">\n",
    "<b>EXERCISE (4):</b> \n",
    "    \n",
    "What is the remainder of 25.5 divided by 6?\n",
    "\n",
    "</div>"
   ]
  },
  {
   "cell_type": "code",
   "execution_count": 4,
   "metadata": {},
   "outputs": [
    {
     "data": {
      "text/plain": [
       "1.5"
      ]
     },
     "execution_count": 4,
     "metadata": {},
     "output_type": "execute_result"
    }
   ],
   "source": [
    "25.5%6"
   ]
  },
  {
   "cell_type": "markdown",
   "metadata": {},
   "source": [
    "<div class=\"alert alert-warning\">\n",
    "<b>EXERCISE (5):</b> \n",
    "    \n",
    "What is the remainder of -25.5 divided by 6? Think how does Python calculate the remainder.\n",
    "\n",
    "</div>"
   ]
  },
  {
   "cell_type": "code",
   "execution_count": 6,
   "metadata": {},
   "outputs": [
    {
     "data": {
      "text/plain": [
       "4.5"
      ]
     },
     "execution_count": 6,
     "metadata": {},
     "output_type": "execute_result"
    }
   ],
   "source": [
    "-25.5+6+6+6+6+6"
   ]
  },
  {
   "cell_type": "markdown",
   "metadata": {},
   "source": [
    "<div class=\"alert alert-warning\">\n",
    "<b>EXERCISE (6):</b> \n",
    "    \n",
    "What is the last digit of the result of $2222^{5555}$? We don't need to print the result $2222^{5555}$. Think how modulo operator can help us.\n",
    "\n",
    "</div>"
   ]
  },
  {
   "cell_type": "code",
   "execution_count": 8,
   "metadata": {},
   "outputs": [
    {
     "data": {
      "text/plain": [
       "8"
      ]
     },
     "execution_count": 8,
     "metadata": {},
     "output_type": "execute_result"
    }
   ],
   "source": [
    "2222**55555%10"
   ]
  },
  {
   "cell_type": "markdown",
   "metadata": {},
   "source": [
    "<div class=\"alert alert-warning\">\n",
    "<b>EXERCISE (7):</b> \n",
    "    \n",
    "Please print the result of $3^7+4^6$.\n",
    "</div>"
   ]
  },
  {
   "cell_type": "code",
   "execution_count": 9,
   "metadata": {},
   "outputs": [
    {
     "data": {
      "text/plain": [
       "6283"
      ]
     },
     "execution_count": 9,
     "metadata": {},
     "output_type": "execute_result"
    }
   ],
   "source": [
    "3**7 + 4**6"
   ]
  },
  {
   "cell_type": "markdown",
   "metadata": {},
   "source": [
    "<div class=\"alert alert-warning\">\n",
    "<b>EXERCISE (8):</b> \n",
    "    \n",
    "Get the integer part of float number 6.68 through type conversion.\n",
    "</div>"
   ]
  },
  {
   "cell_type": "code",
   "execution_count": 10,
   "metadata": {},
   "outputs": [
    {
     "data": {
      "text/plain": [
       "6"
      ]
     },
     "execution_count": 10,
     "metadata": {},
     "output_type": "execute_result"
    }
   ],
   "source": [
    "int(6.68)"
   ]
  },
  {
   "cell_type": "markdown",
   "metadata": {},
   "source": [
    "<div class=\"alert alert-warning\">\n",
    "<b>EXERCISE (9):</b> \n",
    "    \n",
    "Please print the following string:\n",
    "<p><code>The backslash character \"\\\" is used to escape characters that otherwise have a special meaning.</code></p>\n",
    "\n",
    "</div>"
   ]
  },
  {
   "cell_type": "code",
   "execution_count": 11,
   "metadata": {},
   "outputs": [
    {
     "name": "stdout",
     "output_type": "stream",
     "text": [
      "The backslash character \"\\\" is used to escape characters that otherwise have a special meaning\n"
     ]
    }
   ],
   "source": [
    "print('The backslash character \"\\\\\" is used to escape characters that otherwise have a special meaning')"
   ]
  },
  {
   "cell_type": "markdown",
   "metadata": {},
   "source": [
    "<div class=\"alert alert-warning\">\n",
    "<b>EXERCISE (10):</b> \n",
    "    \n",
    "Please print the following string:\n",
    "    <p><code>Don't be intimidated by what you don't know.</code></p>\n",
    "\n",
    "</div>"
   ]
  },
  {
   "cell_type": "code",
   "execution_count": 12,
   "metadata": {},
   "outputs": [
    {
     "name": "stdout",
     "output_type": "stream",
     "text": [
      "Don't be intimidated by what you don't know\n"
     ]
    }
   ],
   "source": [
    "print('Don\\'t be intimidated by what you don\\'t know')"
   ]
  },
  {
   "cell_type": "markdown",
   "metadata": {},
   "source": [
    "<div class=\"alert alert-warning\">\n",
    "<b>EXERCISE (11):</b> \n",
    "    \n",
    "Please print the following string using one line of code:\n",
    "    \n",
    "<code>What do witches ask for at hotels?\n",
    "Broom service!</code>\n",
    "\n",
    "</div>"
   ]
  },
  {
   "cell_type": "code",
   "execution_count": 13,
   "metadata": {},
   "outputs": [
    {
     "name": "stdout",
     "output_type": "stream",
     "text": [
      "What do witches ask for at hotel? \n",
      "Broom service!\n"
     ]
    }
   ],
   "source": [
    "print('What do witches ask for at hotel? \\nBroom service!')"
   ]
  },
  {
   "cell_type": "markdown",
   "metadata": {},
   "source": [
    "<div class=\"alert alert-warning\">\n",
    "<b>EXERCISE (12):</b> \n",
    "    \n",
    "Please print the concatenation result of string `Python is` and string `super fun!`.\n",
    "</div>"
   ]
  },
  {
   "cell_type": "code",
   "execution_count": 14,
   "metadata": {},
   "outputs": [
    {
     "name": "stdout",
     "output_type": "stream",
     "text": [
      "Python is super fun!\n"
     ]
    }
   ],
   "source": [
    "print('Python is '+'super fun!')"
   ]
  },
  {
   "cell_type": "markdown",
   "metadata": {},
   "source": [
    "<div class=\"alert alert-warning\">\n",
    "<b>EXERCISE (13):</b> \n",
    "\n",
    "Please print the concatenation of string `PKU was founded in` and number `1898`.\n",
    "</div>"
   ]
  },
  {
   "cell_type": "code",
   "execution_count": 15,
   "metadata": {},
   "outputs": [
    {
     "name": "stdout",
     "output_type": "stream",
     "text": [
      "PKU was founded in 1898\n"
     ]
    }
   ],
   "source": [
    "print('PKU was founded in '+'1898')"
   ]
  },
  {
   "cell_type": "markdown",
   "metadata": {},
   "source": [
    "<div class=\"alert alert-warning\">\n",
    "<b>EXERCISE (14):</b> \n",
    "    \n",
    "Please print string \"London\" for 20 times.\n",
    "</div>"
   ]
  },
  {
   "cell_type": "code",
   "execution_count": 16,
   "metadata": {},
   "outputs": [
    {
     "name": "stdout",
     "output_type": "stream",
     "text": [
      "LondonLondonLondonLondonLondonLondonLondonLondonLondonLondonLondonLondonLondonLondonLondonLondonLondonLondonLondonLondon\n"
     ]
    }
   ],
   "source": [
    "print('London' *20)"
   ]
  },
  {
   "cell_type": "markdown",
   "metadata": {},
   "source": [
    "<div class=\"alert alert-warning\">\n",
    "<b>EXERCISE (15):</b> \n",
    "<p>Check if the following statement is True or False: </p>\n",
    "\n",
    "`(2 > 3 or 3 < 4) and not (45 == 45)`\n",
    "</div>"
   ]
  },
  {
   "cell_type": "code",
   "execution_count": 17,
   "metadata": {},
   "outputs": [
    {
     "data": {
      "text/plain": [
       "False"
      ]
     },
     "execution_count": 17,
     "metadata": {},
     "output_type": "execute_result"
    }
   ],
   "source": [
    "(2 > 3 or 3 < 4) and not (45 == 45)"
   ]
  },
  {
   "cell_type": "markdown",
   "metadata": {},
   "source": [
    "<div class=\"alert alert-warning\">\n",
    "<b>EXERCISE (16):</b> \n",
    "\n",
    "Define a list: `list_nested = [1,2,[3,4,[5,6,7],8],9]`\n",
    "\n",
    "Print number `6` from the list by using the correct index.</p>\n",
    "</div>"
   ]
  },
  {
   "cell_type": "code",
   "execution_count": 18,
   "metadata": {},
   "outputs": [
    {
     "name": "stdout",
     "output_type": "stream",
     "text": [
      "6\n"
     ]
    }
   ],
   "source": [
    "list_nested = [1,2,[3,4,[5,6,7],8],9]\n",
    "print(list_nested [2][2][1])"
   ]
  },
  {
   "cell_type": "markdown",
   "metadata": {},
   "source": [
    "<div class=\"alert alert-warning\">\n",
    "<b>EXERCISE (17):</b> \n",
    "    \n",
    "Define a list: `list_num = [1, 2, 's', 4, 5]`.\n",
    "\n",
    "Write a code to replace the string `s` in the list with integer `3`. Print the list.\n",
    "</div>"
   ]
  },
  {
   "cell_type": "code",
   "execution_count": 19,
   "metadata": {},
   "outputs": [
    {
     "name": "stdout",
     "output_type": "stream",
     "text": [
      "[1, 2, 3, 4, 5]\n"
     ]
    }
   ],
   "source": [
    "list_num = [1, 2, 's', 4, 5]\n",
    "list_num[2]=3\n",
    "print(list_num)"
   ]
  },
  {
   "cell_type": "markdown",
   "metadata": {},
   "source": [
    "<div class=\"alert alert-warning\">\n",
    "<b>EXERCISE (18):</b> \n",
    "\n",
    "Define a list: `list_nums = [6.7, 4.0, 4.5, 8.9, 2.1, 6.6, 9.8, -7.0, -0.1, 4.0, -4.4, 8.2, 10, 11, 0.9]`.\n",
    "\n",
    "Write code that prints the largest number in the list, the smallest number in the list, and the counts of number `4` appears in the list. The correct output would be `11`, `-7.0` and `2` respectively.\n",
    "</div>"
   ]
  },
  {
   "cell_type": "code",
   "execution_count": 22,
   "metadata": {},
   "outputs": [
    {
     "name": "stdout",
     "output_type": "stream",
     "text": [
      "11\n",
      "-7.0\n",
      "2\n"
     ]
    }
   ],
   "source": [
    "list_nums = [6.7, 4.0, 4.5, 8.9, 2.1, 6.6, 9.8, -7.0, -0.1, 4.0, -4.4, 8.2, 10, 11, 0.9]\n",
    "print(max(list_nums))\n",
    "print(min(list_nums))\n",
    "print(list_nums.count(4))"
   ]
  },
  {
   "cell_type": "markdown",
   "metadata": {},
   "source": [
    "<div class=\"alert alert-warning\">\n",
    "<b>EXERCISE (19):</b> \n",
    "<p>1. Define a list: nums = [1,3,9,4,5]</p>\n",
    "<p>2. By using different list functions, change the list to [1,2,3,4,5]. Print the list to check if you get the correct one.</p>\n",
    "</div>"
   ]
  },
  {
   "cell_type": "code",
   "execution_count": 23,
   "metadata": {},
   "outputs": [
    {
     "name": "stdout",
     "output_type": "stream",
     "text": [
      "[1, 2, 3, 4, 5]\n"
     ]
    }
   ],
   "source": [
    "nums = [1,3,9,4,5]\n",
    "nums.remove (9)\n",
    "nums.insert(1,2)\n",
    "print(nums)"
   ]
  },
  {
   "cell_type": "markdown",
   "metadata": {},
   "source": [
    "<div class=\"alert alert-warning\">\n",
    "<b>EXERCISE (20): </b> \n",
    "    \n",
    "Define a list: `StudentDetails = [30,\"University of Oxford\",\"1 High Street, London, W1 1PP\", \"John Cameron\"]`.\n",
    "\n",
    "Change the order of the elements in the student’s name, address, university, and age. Print the new list. The expected output would be: `['John Cameron', '1 High Street, London, W1 1PP', 'University of Oxford', 30]`.\n",
    "\n",
    "</div>"
   ]
  },
  {
   "cell_type": "code",
   "execution_count": 25,
   "metadata": {},
   "outputs": [
    {
     "name": "stdout",
     "output_type": "stream",
     "text": [
      "['John Cameron', '1 High Street, London, W1 1PP', 'University of Oxford', 30]\n"
     ]
    }
   ],
   "source": [
    "StudentDetails = [30,\"University of Oxford\",\"1 High Street, London, W1 1PP\", \"John Cameron\"]\n",
    "StudentDetails =StudentDetails[::-1]\n",
    "print(StudentDetails)"
   ]
  },
  {
   "cell_type": "markdown",
   "metadata": {},
   "source": [
    "<div class=\"alert alert-warning\">\n",
    "<b>EXERCISE (21): </b> \n",
    "<p>Create a list of numbers from $500$ to $0$, with an interval of $25$. The list should start with $500$ and end with $0$.</p>\n",
    "\n",
    "</div>"
   ]
  },
  {
   "cell_type": "code",
   "execution_count": 33,
   "metadata": {},
   "outputs": [
    {
     "name": "stdout",
     "output_type": "stream",
     "text": [
      "[500, 475, 450, 425, 400, 375, 350, 325, 300, 275, 250, 225, 200, 175, 150, 125, 100, 75, 50, 25, 0]\n"
     ]
    }
   ],
   "source": [
    "numbers = list(range(501))\n",
    "numbers = numbers[::-25]\n",
    "print(numbers)"
   ]
  },
  {
   "cell_type": "markdown",
   "metadata": {},
   "source": [
    "<div class=\"alert alert-warning\">\n",
    "<b>EXERCISE (22): </b> \n",
    "\n",
    "Define a tuple: `primes = (2, 3, 5, 7, 11, 13, 17, 19, 23)`.\n",
    "\n",
    " Add two more prime numbers to the tuple: `29` and `31`.\n",
    "  \n",
    "HINT: As tuples are immutable you can't just add an item to a tuple, but you can concatenate tuples together.\n",
    "</div>"
   ]
  },
  {
   "cell_type": "code",
   "execution_count": 34,
   "metadata": {},
   "outputs": [
    {
     "name": "stdout",
     "output_type": "stream",
     "text": [
      "(2, 3, 5, 7, 11, 13, 17, 19, 23, 29, 31)\n"
     ]
    }
   ],
   "source": [
    "primes = (2, 3, 5, 7, 11, 13, 17, 19, 23)\n",
    "primes_29_31 = (29,31)\n",
    "final = primes + primes_29_31\n",
    "print(final)\n"
   ]
  },
  {
   "cell_type": "markdown",
   "metadata": {},
   "source": [
    "<div class=\"alert alert-warning\">\n",
    "<b>EXERCISE (23): </b> \n",
    "\n",
    "Write code that prints the $2nd$ item and the $3𝑟𝑑$ item from the end in the tuple `primes`.\n",
    "  \n",
    "\n",
    "</div>"
   ]
  },
  {
   "cell_type": "code",
   "execution_count": 35,
   "metadata": {},
   "outputs": [
    {
     "name": "stdout",
     "output_type": "stream",
     "text": [
      "3\n",
      "17\n"
     ]
    }
   ],
   "source": [
    "print(primes[1])\n",
    "print(primes[-3])"
   ]
  },
  {
   "cell_type": "markdown",
   "metadata": {},
   "source": [
    "<div class=\"alert alert-warning\">\n",
    "<b>EXERCISE (24): </b> \n",
    "\n",
    "Write code that shows the first $5$ items of the tuple `primes`.\n",
    "  \n",
    "\n",
    "</div>"
   ]
  },
  {
   "cell_type": "code",
   "execution_count": 36,
   "metadata": {},
   "outputs": [
    {
     "name": "stdout",
     "output_type": "stream",
     "text": [
      "(2, 3, 5, 7, 11)\n"
     ]
    }
   ],
   "source": [
    "print(primes [:5])"
   ]
  },
  {
   "cell_type": "markdown",
   "metadata": {},
   "source": [
    "<div class=\"alert alert-warning\">\n",
    "<b>EXERCISE (25): </b> \n",
    "\n",
    "Print the largest and the smallest number in the tuple `primes`.\n",
    "\n",
    "</div>"
   ]
  },
  {
   "cell_type": "code",
   "execution_count": 37,
   "metadata": {},
   "outputs": [
    {
     "name": "stdout",
     "output_type": "stream",
     "text": [
      "23\n",
      "2\n"
     ]
    }
   ],
   "source": [
    "print(max(primes))\n",
    "print(min(primes))"
   ]
  },
  {
   "cell_type": "markdown",
   "metadata": {},
   "source": [
    "<div class=\"alert alert-warning\">\n",
    "<b>EXERCISE (26): </b> \n",
    "\n",
    "Define a dictionary: `ages = {\"Dave\":24, \"Mary\":42, \"John\":58, \"Mary\":32, \"Chris\":39, \"Mike\": 20}`.\n",
    "\n",
    "Please update dictionary `ages` by adding Dorothy, who is 53 years old. \n",
    "</div>"
   ]
  },
  {
   "cell_type": "code",
   "execution_count": 43,
   "metadata": {},
   "outputs": [
    {
     "name": "stdout",
     "output_type": "stream",
     "text": [
      "{'Dave': 24, 'Mary': 32, 'John': 58, 'Chris': 39, 'Mike': 20, 'Dorothy': 53}\n"
     ]
    }
   ],
   "source": [
    "ages = {\"Dave\":24, \"Mary\":42, \"John\":58, \"Mary\":32, \"Chris\":39, \"Mike\": 20}\n",
    "ages.update({\"Dorothy\":53})\n",
    "print(ages)\n"
   ]
  },
  {
   "cell_type": "markdown",
   "metadata": {},
   "source": [
    "<div class=\"alert alert-warning\">\n",
    "<b>EXERCISE (27): </b> \n",
    "\n",
    "Get the value from key \"Mike\" in the dictionary `ages` and assign it to a varialbe called <code>age_1</code>, delete \"Mike\" from the dictionary. Realize the operation using one line of code. Then print out the variable and the updated dictionary.\n",
    "\n",
    "</div>"
   ]
  },
  {
   "cell_type": "code",
   "execution_count": 46,
   "metadata": {},
   "outputs": [
    {
     "name": "stdout",
     "output_type": "stream",
     "text": [
      "20\n",
      "{'Dave': 24, 'Mary': 32, 'John': 58, 'Chris': 39, 'Dorothy': 53}\n"
     ]
    }
   ],
   "source": [
    "age_1= ages.pop(\"Mike\")\n",
    "print(age_1)\n",
    "print(ages)"
   ]
  },
  {
   "cell_type": "markdown",
   "metadata": {},
   "source": [
    "<div class=\"alert alert-warning\">\n",
    "<b>EXERCISE (28): </b> \n",
    "\n",
    "Write code that calculates the average age of people from dictionary `ages`.\n",
    "\n",
    "</div>"
   ]
  },
  {
   "cell_type": "code",
   "execution_count": 47,
   "metadata": {},
   "outputs": [
    {
     "data": {
      "text/plain": [
       "41.2"
      ]
     },
     "execution_count": 47,
     "metadata": {},
     "output_type": "execute_result"
    }
   ],
   "source": [
    "sum(ages.values())/len(ages.values())"
   ]
  },
  {
   "cell_type": "markdown",
   "metadata": {},
   "source": [
    "<div class=\"alert alert-warning\">\n",
    "<b>EXERCISE (29): </b> \n",
    "\n",
    "Write code to show the sorted list of dictionary keys from dictionary `ages`.\n",
    "\n",
    "</div>"
   ]
  },
  {
   "cell_type": "code",
   "execution_count": 48,
   "metadata": {},
   "outputs": [
    {
     "data": {
      "text/plain": [
       "['Chris', 'Dave', 'Dorothy', 'John', 'Mary']"
      ]
     },
     "execution_count": 48,
     "metadata": {},
     "output_type": "execute_result"
    }
   ],
   "source": [
    "sorted(ages)"
   ]
  },
  {
   "cell_type": "markdown",
   "metadata": {},
   "source": [
    "<div class=\"alert alert-warning\">\n",
    "<b>EXERCISE (30): </b> \n",
    "    \n",
    "Define two sets:\n",
    "\n",
    "`set_a = {4, 6, 8, 11, 15, 16, 17 ,24, 28, 31, 43, 39, 50, 56}` \n",
    "\n",
    "`set_b = {5, 6, 9, 10, 15, 20, 24, 31, 42, 49, 50} `\n",
    "\n",
    "Print symmetric difference and intersection of the two sets.\n",
    "</div>"
   ]
  },
  {
   "cell_type": "code",
   "execution_count": null,
   "metadata": {},
   "outputs": [],
   "source": []
  },
  {
   "cell_type": "markdown",
   "metadata": {},
   "source": [
    "<div class=\"alert alert-warning\">\n",
    "<b>EXERCISE (31): </b> \n",
    "    \n",
    "Define a list:\n",
    "\n",
    "`list_dup = [1, 2, 2, 2, 2, 3, 3, 3, 4, 4, 5, 5, 5, 5, 5, 5, 5, 5, 5, 5, 5, 6, 7, 7, 7, 7, 8, 8, 9, 10]`\n",
    "\n",
    "Update the list so that it would only contain unique values. Print the updated list, the desirable output is: `[1, 2, 3, 4, 5, 6, 7, 8, 9, 10]`. \n",
    "\n",
    "</div>"
   ]
  },
  {
   "cell_type": "code",
   "execution_count": null,
   "metadata": {},
   "outputs": [],
   "source": []
  },
  {
   "cell_type": "markdown",
   "metadata": {},
   "source": [
    "<div class=\"alert alert-warning\">\n",
    "<b>EXERCISE (32): </b> \n",
    "\n",
    "Please check the output of below expression.Think how the expression is evaluated in `Python`.\n",
    "    \n",
    "17 / 2 % 2 * 3 ** 3"
   ]
  },
  {
   "cell_type": "code",
   "execution_count": null,
   "metadata": {},
   "outputs": [],
   "source": []
  },
  {
   "cell_type": "markdown",
   "metadata": {},
   "source": [
    "<div class=\"alert alert-warning\">\n",
    "<b>EXERCISE (33):</b> \n",
    "<p>When two operators have the same precedence, associativity helps to determine the order of operations.</p>\n",
    "<p>Associativity is the order in which an expression is evaluated that has multiple operator of the same precedence.</p> \n",
    "<p>Almost all the operators have left-to-right associativity - how about the below operators?</p>\n",
    "<p>Check if the following expressions are the same: (2&ast;&ast;3&ast;&ast;2) and ((2&ast;&ast;3)&ast;&ast;2)?</p>\n",
    "</div>"
   ]
  },
  {
   "cell_type": "code",
   "execution_count": null,
   "metadata": {},
   "outputs": [],
   "source": []
  },
  {
   "cell_type": "markdown",
   "metadata": {},
   "source": [
    "<div class=\"alert alert-warning\">\n",
    "<b>EXERCISE (34):</b> \n",
    "    \n",
    "Get the user's inputs of two numbers, and calculate the multiplication of them. You can use the prompts (the `string` displayed) `Enter a number:` and `Enter another number:` when requesting the inputs.\n",
    "\n",
    "Check if you can get the correct multiplication result after entering the two numbers.\n",
    "</div>"
   ]
  },
  {
   "cell_type": "code",
   "execution_count": 49,
   "metadata": {},
   "outputs": [
    {
     "name": "stdout",
     "output_type": "stream",
     "text": [
      "Enter a number: 2\n",
      "Enter another number: 4\n"
     ]
    },
    {
     "data": {
      "text/plain": [
       "8.0"
      ]
     },
     "execution_count": 49,
     "metadata": {},
     "output_type": "execute_result"
    }
   ],
   "source": [
    "float(input('Enter a number: '))*float(input('Enter another number: '))"
   ]
  },
  {
   "cell_type": "markdown",
   "metadata": {},
   "source": [
    "<div class=\"alert alert-warning\">\n",
    "<b>EXERCISE (35):</b> \n",
    "\n",
    "Get the user's name by the input function, and assign it to a variable called `name`.You can use the prompt `Please enter your name: ` when asking the input.\n",
    "</div>"
   ]
  },
  {
   "cell_type": "code",
   "execution_count": 50,
   "metadata": {},
   "outputs": [
    {
     "name": "stdout",
     "output_type": "stream",
     "text": [
      "Please enter your name: Ama\n"
     ]
    }
   ],
   "source": [
    "name = str(input('Please enter your name: '))\n"
   ]
  },
  {
   "cell_type": "markdown",
   "metadata": {},
   "source": [
    "<div class=\"alert alert-warning\">\n",
    "<b>EXERCISE (36):</b> \n",
    "\n",
    "Please print the concatenation of string `Nice to meet you, ` and the name got from the user input in the previous exercise.\n",
    "</div>"
   ]
  },
  {
   "cell_type": "code",
   "execution_count": 51,
   "metadata": {},
   "outputs": [
    {
     "name": "stdout",
     "output_type": "stream",
     "text": [
      "Nice to meet you, Ama\n"
     ]
    }
   ],
   "source": [
    "print('Nice to meet you, '+name)"
   ]
  },
  {
   "cell_type": "markdown",
   "metadata": {},
   "source": [
    "<div class=\"alert alert-warning\">\n",
    "<b>EXERCISE (37):</b> \n",
    "\n",
    "Get the the user's age, and assign it to a variable called `age`.You can use the prompt `Please enter your age: ` when asking the input.\n",
    "</div>"
   ]
  },
  {
   "cell_type": "code",
   "execution_count": 52,
   "metadata": {},
   "outputs": [
    {
     "name": "stdout",
     "output_type": "stream",
     "text": [
      "Please enter your age: 49\n"
     ]
    }
   ],
   "source": [
    "age = int(input('Please enter your age: '))"
   ]
  },
  {
   "cell_type": "markdown",
   "metadata": {},
   "source": [
    "<div class=\"alert alert-warning\">\n",
    "<b>EXERCISE (38):</b> \n",
    "    \n",
    "Calcualte the year when the user will turn to 100 years old and assign the result to a variable called `year_age_100`. For a user who is 22 years old, he or she will turn to 100 years old in the year 2098 (2020+100-22).\n",
    "</div>"
   ]
  },
  {
   "cell_type": "code",
   "execution_count": 53,
   "metadata": {},
   "outputs": [],
   "source": [
    "year_age_100 = 2020+100-int(age)"
   ]
  },
  {
   "cell_type": "markdown",
   "metadata": {},
   "source": [
    "<div class=\"alert alert-warning\">\n",
    "<b>EXERCISE (39):</b> \n",
    "    \n",
    "Please print a message and tell the user the year he or she will turn to 100 years old.\n",
    "\n",
    "For example the message could be: `Hello James, you will be 100 year old in year 2096.`\n",
    "</div>"
   ]
  },
  {
   "cell_type": "code",
   "execution_count": 55,
   "metadata": {},
   "outputs": [
    {
     "name": "stdout",
     "output_type": "stream",
     "text": [
      "Hello Ama you will be 100 years old in year 2071\n"
     ]
    }
   ],
   "source": [
    "print('Hello '+name+' you will be 100 years old in year '+str(year_age_100)+ '')"
   ]
  },
  {
   "cell_type": "markdown",
   "metadata": {},
   "source": [
    "# 2. Control Structures"
   ]
  },
  {
   "cell_type": "markdown",
   "metadata": {},
   "source": [
    "<div class=\"alert alert-warning\">\n",
    "<b>EXERCISE (40):</b>\n",
    "\n",
    "Get the user's input with the prompt: `Please enter a number between 1 and 5: `. Print the user's number if it is between 1 and 5. If not, output this message: `Number is not between 1 and 5`.\n",
    "</div>"
   ]
  },
  {
   "cell_type": "code",
   "execution_count": 56,
   "metadata": {},
   "outputs": [
    {
     "name": "stdout",
     "output_type": "stream",
     "text": [
      "Please enter a number between 1 and 5: 4\n",
      "number is 3\n"
     ]
    }
   ],
   "source": [
    "number = int(input('Please enter a number between 1 and 5: '))\n",
    "if number==1:\n",
    "    print('number is 1')\n",
    "elif number ==2:\n",
    "    print('number is 2')\n",
    "else:\n",
    "    print('number is 3')"
   ]
  },
  {
   "cell_type": "markdown",
   "metadata": {},
   "source": [
    "<div class=\"alert alert-warning\">\n",
    "<b>EXERCISE (41):</b> \n",
    "<p> Write code to replicate the flowchart.<p/>\n",
    "<img src=\"./images/if_else.png\" width=\"30%\">\n",
    "</div>"
   ]
  },
  {
   "cell_type": "code",
   "execution_count": null,
   "metadata": {},
   "outputs": [],
   "source": []
  },
  {
   "cell_type": "markdown",
   "metadata": {},
   "source": [
    "<div class=\"alert alert-warning\">\n",
    "<b>EXERCISE (42):</b> \n",
    "\n",
    "Write a code that gets two names from the inputs of the user and checks if the names are the same. You can use the prompts `Please give me a name: ` and `Please give me another name: `. If the names are the same, the code prints `Same names.`, otherwise it prints `Different names.`.\n",
    "\n",
    "</div>"
   ]
  },
  {
   "cell_type": "code",
   "execution_count": null,
   "metadata": {},
   "outputs": [],
   "source": []
  },
  {
   "cell_type": "markdown",
   "metadata": {},
   "source": [
    "<div class=\"alert alert-warning\">\n",
    "<b>EXERCISE (43):</b> \n",
    "\n",
    "Fill the blanks in the code below, so that the output is `true`.\n",
    "\n",
    "`if (1 == ___) and (2 + ___ > 3):\n",
    "    print(\"true\")\n",
    "else: \n",
    "    print(\"false\")`\n",
    "</div>"
   ]
  },
  {
   "cell_type": "code",
   "execution_count": null,
   "metadata": {},
   "outputs": [],
   "source": []
  },
  {
   "cell_type": "markdown",
   "metadata": {},
   "source": [
    "<div class=\"alert alert-warning\">\n",
    "<b>EXERCISE (44):</b> \n",
    "\n",
    "Create a while loop that prints integers from 10 to 0 and then terminates the loop with the message `Done!`.\n",
    "</div>"
   ]
  },
  {
   "cell_type": "code",
   "execution_count": 58,
   "metadata": {},
   "outputs": [
    {
     "name": "stdout",
     "output_type": "stream",
     "text": [
      "10\n",
      "9\n",
      "8\n",
      "7\n",
      "6\n",
      "5\n",
      "4\n",
      "3\n",
      "2\n",
      "1\n",
      "0\n",
      "done\n"
     ]
    }
   ],
   "source": [
    "i =10\n",
    "while i>=0:\n",
    "    print(i)\n",
    "    i-=1\n",
    "print('done')"
   ]
  },
  {
   "cell_type": "markdown",
   "metadata": {},
   "source": [
    "<div class=\"alert alert-warning\">\n",
    "<b>EXERCISE (45):</b> \n",
    "\n",
    "Fill in the gaps in the code below, so that the code prints: itself for uneven numbers the number, `Even number` for the even numbers. When the code reaches 15 it should print the string `Last one in range`.\n",
    "\n",
    "`i = 0\n",
    "while ___:\n",
    "    i ___ 1\n",
    "    if ___ == 0:\n",
    "        print(___)\n",
    "        ____ \n",
    "    if i == 15:\n",
    "        print(\"Last one in range\")\n",
    "        ____\n",
    "    print(i)`\n",
    "</div>"
   ]
  },
  {
   "cell_type": "code",
   "execution_count": 62,
   "metadata": {},
   "outputs": [
    {
     "name": "stdout",
     "output_type": "stream",
     "text": [
      "1\n",
      "even number\n",
      "3\n",
      "even number\n",
      "5\n",
      "even number\n",
      "7\n",
      "even number\n",
      "9\n",
      "even number\n",
      "11\n",
      "even number\n",
      "13\n",
      "even number\n",
      "last one in range\n"
     ]
    }
   ],
   "source": [
    "i = 0\n",
    "while True:\n",
    "    i+= 1\n",
    "    if i%2 == 0:\n",
    "        print('even number')\n",
    "        continue\n",
    "    if i==15:\n",
    "        print('last one in range')\n",
    "        break\n",
    "    print(i)"
   ]
  },
  {
   "cell_type": "markdown",
   "metadata": {},
   "source": [
    "<div class=\"alert alert-warning\">\n",
    "<b>EXERCISE (46):</b>\n",
    "\n",
    "Fill in the gaps so that the code takes a name input from user and checks whether the name is on the predefined list.\n",
    "\n",
    "`name_list = ['Theresa','Boris','Nicola','Jeremy','Nigel','Sadiq']\n",
    "name_input = input('Please input your name:')\n",
    "___________________:\n",
    "    print('Welcome, '+ name_input)\n",
    "_____:\n",
    "    print('You are not on the list.')`\n",
    "</div>"
   ]
  },
  {
   "cell_type": "code",
   "execution_count": null,
   "metadata": {},
   "outputs": [],
   "source": []
  },
  {
   "cell_type": "markdown",
   "metadata": {},
   "source": [
    "<div class=\"alert alert-warning\">\n",
    "<b>EXERCISE (47):</b> \n",
    "\n",
    "Write a code that will ask the user to input the password for 5 times. The program will print `You have successfully logged in` if the password is correct. After 5 failed attempts, it will print `You are not the authorized user` and stop asking password. For testing purposes, you can set the password as `manage` by defining a variable: `password = 'manage'`</p>\n",
    "</div>"
   ]
  },
  {
   "cell_type": "code",
   "execution_count": null,
   "metadata": {},
   "outputs": [
    {
     "name": "stdout",
     "output_type": "stream",
     "text": [
      "Please enter the password: ma\n"
     ]
    }
   ],
   "source": [
    "password = 'manage'\n",
    "n = 0\n",
    "while True:\n",
    "    user_input = (input('Please enter the password: '))\n",
    "    n+=1\n",
    "    if user_input == password:\n",
    "        print('You have successfully logged in')\n",
    "        break\n",
    "    if n == 5:\n",
    "        print('You are not the authorized user')\n",
    "        break\n",
    "\n"
   ]
  },
  {
   "cell_type": "markdown",
   "metadata": {},
   "source": [
    "# 3. Functions"
   ]
  },
  {
   "cell_type": "markdown",
   "metadata": {},
   "source": [
    "<div class=\"alert alert-warning\">\n",
    "<b>EXERCISE (48):</b>\n",
    "    \n",
    "Write a function that returns the square of a number, call it `sqr_num` and test it with the input argument being `5`.\n",
    "</div>"
   ]
  },
  {
   "cell_type": "code",
   "execution_count": null,
   "metadata": {},
   "outputs": [],
   "source": []
  },
  {
   "cell_type": "markdown",
   "metadata": {},
   "source": [
    "<div class=\"alert alert-warning\">\n",
    "<b>EXERCISE (49):</b>\n",
    "    \n",
    "Write a function called `check_even` which prints `yes` when the argument is an even number and prints `no` otherwise.\n",
    "</div>"
   ]
  },
  {
   "cell_type": "code",
   "execution_count": null,
   "metadata": {},
   "outputs": [],
   "source": []
  },
  {
   "cell_type": "markdown",
   "metadata": {},
   "source": [
    "<div class=\"alert alert-warning\">\n",
    "<b>EXERCISE (50):</b>\n",
    "\n",
    "Write a function called `min_num` which takes two numbers as arguments and returns the smaller one.\n",
    "</div>"
   ]
  },
  {
   "cell_type": "code",
   "execution_count": null,
   "metadata": {},
   "outputs": [],
   "source": []
  },
  {
   "cell_type": "markdown",
   "metadata": {},
   "source": [
    "<div class=\"alert alert-warning\">\n",
    "<b>EXERCISE (51): </b> \n",
    "\n",
    "Create a function `key_check(x, dict)` that checks if the argument of the functions (`x`) is used as a key in the dictionary (`dict`).\n",
    "\n",
    "If the argument is used as a key display `Key is already taken.`, else display `Key is not present in the dictionary.`.\n",
    "\n",
    "</div>"
   ]
  },
  {
   "cell_type": "code",
   "execution_count": null,
   "metadata": {},
   "outputs": [],
   "source": []
  },
  {
   "cell_type": "markdown",
   "metadata": {},
   "source": [
    "<div class=\"alert alert-warning\">\n",
    "<b>EXERCISE (52):</b>\n",
    "    \n",
    "Write a function called `string_reverse` which takes a string as the argument. The function returns the reversed input string. \n",
    "\n",
    "Call the function with argument `'123abcd'`, print the return value. The desirable output is `dcba4321`.\n",
    "</div>"
   ]
  },
  {
   "cell_type": "code",
   "execution_count": null,
   "metadata": {},
   "outputs": [],
   "source": []
  },
  {
   "cell_type": "markdown",
   "metadata": {},
   "source": [
    "<div class=\"alert alert-warning\">\n",
    "<b>EXERCISE (53):</b>\n",
    "    \n",
    "1, Define a function called `cube` that takes an argument called `number` and returns the cube of that number (i.e. that number multiplied by itself and multiplied by itself once again).\n",
    "\n",
    "2, Define a second function called `by_three` that takes an argument called number. If that number is divisible by 3, `by_three` should call `cube(number)` and return its result. Otherwise,  `by_three` should return False.\n",
    "\n",
    "3, Call the function `by_three` with number `9` as the input argument. Print the result and the output should be `729`.\n",
    "</div>"
   ]
  },
  {
   "cell_type": "code",
   "execution_count": null,
   "metadata": {},
   "outputs": [],
   "source": []
  },
  {
   "cell_type": "markdown",
   "metadata": {},
   "source": [
    "<div class=\"alert alert-warning\">\n",
    "<b>EXERCISE (54):</b>\n",
    "\n",
    "1, Define a function called `max_of_two` that takes the arguments of two numbers and returns the maximum number of the two arguments.\n",
    "\n",
    "2, Define a second function called `max_of_three` that takes the arguments of three numbers. The function returns the maximum number of the three arguments. Call `max_of_two` in `max_of_three` to make the function easlier to write. \n",
    "\n",
    "3, Check if the program works.\n",
    "</div>"
   ]
  },
  {
   "cell_type": "code",
   "execution_count": null,
   "metadata": {},
   "outputs": [],
   "source": []
  },
  {
   "cell_type": "markdown",
   "metadata": {},
   "source": [
    "<div class=\"alert alert-warning\">\n",
    "<b>EXERCISE (55):</b>\n",
    "\n",
    "1, Define two functions called `square` and `cube` which take a number argument and return the square and cube of that number respectively .\n",
    "\n",
    "2, Define another function called `test` that takes the two arguments: `func` and `num`.\n",
    "\n",
    "3, The function `test` can return the result of executing any of the two functions defined in step 1 with the specified number. It can be used to check if the two functions are correctly defined.  \n",
    "\n",
    "4, Execute the function `test` to check if we can get the correct result of $2^2$ and $2^3$ by using functions `square` and `cube` as part of the arguments. \n",
    "</div>"
   ]
  },
  {
   "cell_type": "code",
   "execution_count": null,
   "metadata": {},
   "outputs": [],
   "source": []
  }
 ],
 "metadata": {
  "kernelspec": {
   "display_name": "Python 3",
   "language": "python",
   "name": "python3"
  },
  "language_info": {
   "codemirror_mode": {
    "name": "ipython",
    "version": 3
   },
   "file_extension": ".py",
   "mimetype": "text/x-python",
   "name": "python",
   "nbconvert_exporter": "python",
   "pygments_lexer": "ipython3",
   "version": "3.7.4"
  }
 },
 "nbformat": 4,
 "nbformat_minor": 2
}
